{
 "cells": [
  {
   "cell_type": "markdown",
   "metadata": {
    "collapsed": true
   },
   "source": [
    "### Script for video capture"
   ]
  },
  {
   "cell_type": "code",
   "execution_count": 2,
   "metadata": {
    "collapsed": false
   },
   "outputs": [],
   "source": [
    "filename = '/Users/vassiki/Desktop/brainhack/scannerEye/SamLocR3.mov'\n",
    "\n",
    "def read_video(filename):\n",
    "    import cv2\n",
    "\n",
    "    cap = cv2.VideoCapture(filename)\n",
    "    while not cap.isOpened():\n",
    "        cap = cv2.VideoCapture(filename)\n",
    "        cv2.waitKey(1000)\n",
    "        print \"Wait for the header\"\n",
    "    num_frames = cap.get(cv2.cv.CV_CAP_PROP_FRAME_COUNT)\n",
    "    print \"Total Frames: \"+str(num_frames)\n",
    "    pos_frame = cap.get(cv2.cv.CV_CAP_PROP_POS_FRAMES)\n",
    "\n",
    "    # to return time of each frame in ms \n",
    "    time_frame = []\n",
    "    data = []\n",
    "    while True:\n",
    "        flag, frame = cap.read()\n",
    "\n",
    "        if flag:\n",
    "            # The frame is ready and already captured\n",
    "            cv2.imshow('video', frame)\n",
    "            res = cv2.resize(frame,None,fx=0.5, fy=0.5, interpolation = cv2.INTER_CUBIC)\n",
    "            data.append(res)\n",
    "            pos_frame = cap.get(cv2.cv.CV_CAP_PROP_POS_FRAMES)\n",
    "            time = cap.get(cv2.cv.CV_CAP_PROP_POS_MSEC)\n",
    "            time_frame.append(time)\n",
    "        else:\n",
    "            # The next frame is not ready, so we try to read it again\n",
    "            cap.set(cv2.cv.CV_CAP_PROP_POS_FRAMES, pos_frame-1)\n",
    "            print \"frame is not ready\"\n",
    "            # It is better to wait for a while for the next frame to be ready\n",
    "            cv2.waitKey(1000)\n",
    "            time = cap.get(cv2.cv.CV_CAP_PROP_POS_MSEC)\n",
    "            time_frame.append(time)\n",
    "            #print \"here?\"\n",
    "\n",
    "        if cv2.waitKey(10) == 27:\n",
    "            break\n",
    "        if cap.get(cv2.cv.CV_CAP_PROP_POS_FRAMES) == cap.get(cv2.cv.CV_CAP_PROP_FRAME_COUNT):\n",
    "            # If the number of captured frames is equal to the total number of frames,\n",
    "            # we stop\n",
    "            break\n",
    "\n",
    "    return data, time_frame\n",
    "    cv2.destroyAllWindows()  "
   ]
  },
  {
   "cell_type": "code",
   "execution_count": null,
   "metadata": {
    "collapsed": true
   },
   "outputs": [],
   "source": [
    "data, time_frame = read_video(filename) "
   ]
  },
  {
   "cell_type": "markdown",
   "metadata": {},
   "source": [
    "### Identify blink events in video"
   ]
  },
  {
   "cell_type": "code",
   "execution_count": 7,
   "metadata": {
    "collapsed": false
   },
   "outputs": [],
   "source": [
    "blinkfile = '/Users/vassiki/Desktop/brainhack/scannerEye/SamLocBlinks.txt'\n",
    "\n",
    "def blinkFlag(blinkfile,time_frame):\n",
    "    import numpy as np\n",
    "    blinkInterval = []\n",
    "    with open(blinktags) as f:\n",
    "        lines = f.readlines()\n",
    "        for line in lines:\n",
    "            fields = line.split('\\t')\n",
    "            non_empty_fields = [f for f in fields if f != '']\n",
    "            # convert string to float, then \n",
    "            if non_empty_fields[0] == 'blinks':\n",
    "                blinkInterval.append([float(non_empty_fields[1])*1000,\n",
    "                                  float(non_empty_fields[2])*1000])\n",
    "            else:\n",
    "                blinkInterval.append([0,0])\n",
    "\n",
    "\n",
    "    # getting everything between the intervals that mark the blinks\n",
    "    blinktimes = []\n",
    "    for idx,blink in enumerate(blinkInterval):\n",
    "        interval = np.arange(blinkInterval[idx][0],blinkInterval[idx][1],1.0)\n",
    "        blinktimes.append(interval.tolist())\n",
    "    \n",
    "    blinks = [item for sublist in blinktimes for item in sublist]\n",
    "\n",
    "    blink_tags = [0] * len(time_frame)\n",
    "\n",
    "    timestamps = [t*0.001 for t in time_frame]\n",
    "\n",
    "    for idx,stamp in enumerate(time_frame):\n",
    "        #print int(stamp)\n",
    "        if int(stamp) in blinks:\n",
    "            blink_tags[idx] = 1\n",
    "    \n",
    "    return blink_tags"
   ]
  },
  {
   "cell_type": "markdown",
   "metadata": {},
   "source": [
    "### SGD Classifier"
   ]
  },
  {
   "cell_type": "code",
   "execution_count": 12,
   "metadata": {
    "collapsed": false
   },
   "outputs": [
    {
     "data": {
      "text/plain": [
       "SGDClassifier(alpha=0.0001, average=False, class_weight=None, epsilon=0.1,\n",
       "       eta0=0.0, fit_intercept=True, l1_ratio=0.15,\n",
       "       learning_rate='optimal', loss='hinge', n_iter=5, n_jobs=1,\n",
       "       penalty='l2', power_t=0.5, random_state=None, shuffle=True,\n",
       "       verbose=0, warm_start=False)"
      ]
     },
     "execution_count": 12,
     "metadata": {},
     "output_type": "execute_result"
    }
   ],
   "source": [
    "def run_classifier(data,labels):\n",
    "    \n",
    "    from sklearn.linear_model import SGDClassifier\n",
    "    \n",
    "    X = data\n",
    "    y = labels\n",
    "\n",
    "    # collapsing rgb values\n",
    "    x = np.asarray([f.mean(-1).reshape(-1) for f in data])\n",
    "\n",
    "    # data folding-this needs to be optimized\n",
    "    # right now, just leaving ~1000 frames to classify\n",
    "    X_train, y_train = x[:7000], y[:7000]\n",
    "    X_test, y_test = x[7000:], y[7000:]\n",
    "\n",
    "    clf = SGDClassifier(loss=\"hinge\", penalty=\"l2\")\n",
    "    clf.fit(X_train, y_train)  \n",
    "    \n",
    "    # predict of test data\n",
    "    y_pred = clf.predict(X_test)\n",
    "    \n",
    "    from sklearn.metrics import classification_report\n",
    "\n",
    "    pred = y_pred.tolist()\n",
    "    true = y_test\n",
    "    target_names = ['non-blink','blink']\n",
    "\n",
    "    print(classification_report(true, pred, target_names=target_names))\n",
    "    \n",
    "    return clf"
   ]
  },
  {
   "cell_type": "code",
   "execution_count": 20,
   "metadata": {
    "collapsed": false
   },
   "outputs": [
    {
     "name": "stdout",
     "output_type": "stream",
     "text": [
      "             precision    recall  f1-score   support\n",
      "\n",
      "  non-blink       0.98      0.80      0.88       744\n",
      "      blink       0.38      0.90      0.54       101\n",
      "\n",
      "avg / total       0.91      0.82      0.84       845\n",
      "\n"
     ]
    }
   ],
   "source": []
  },
  {
   "cell_type": "markdown",
   "metadata": {},
   "source": [
    "### Scratchpad"
   ]
  },
  {
   "cell_type": "code",
   "execution_count": 26,
   "metadata": {
    "collapsed": false
   },
   "outputs": [
    {
     "name": "stdout",
     "output_type": "stream",
     "text": [
      "Total Frames: 10213.0\n"
     ]
    }
   ],
   "source": [
    "filename = '/Users/vassiki/Desktop/brainhack/scannerEye/SamHemiR1.mov'\n",
    "\n",
    "# function for new movie that returns new data and time frame, no annotations yet!!\n",
    "\n",
    "# place function from first box here\n"
   ]
  },
  {
   "cell_type": "code",
   "execution_count": 28,
   "metadata": {
    "collapsed": true
   },
   "outputs": [],
   "source": [
    "x_new = np.asarray([f.mean(-1).reshape(-1) for f in newdata])\n",
    "\n",
    "y_new_pred = clf.predict(x_new)"
   ]
  },
  {
   "cell_type": "code",
   "execution_count": 40,
   "metadata": {
    "collapsed": false
   },
   "outputs": [
    {
     "data": {
      "text/plain": [
       "9174"
      ]
     },
     "execution_count": 40,
     "metadata": {},
     "output_type": "execute_result"
    }
   ],
   "source": [
    "y_new_pred.tolist().count(0)"
   ]
  },
  {
   "cell_type": "code",
   "execution_count": null,
   "metadata": {
    "collapsed": false
   },
   "outputs": [],
   "source": [
    "filename = '/Users/vassiki/Desktop/brainhack/scannerEye/SamHemiR1.mov'\n",
    "\n",
    "import cv2\n",
    "\n",
    "cap = cv2.VideoCapture(filename)\n",
    "while not cap.isOpened():\n",
    "    cap = cv2.VideoCapture(filename)\n",
    "    cv2.waitKey(1000)\n",
    "    print \"Wait for the header\"\n",
    "num_frames = cap.get(cv2.cv.CV_CAP_PROP_FRAME_COUNT)\n",
    "print \"Total Frames: \"+str(num_frames)\n",
    "pos_frame = cap.get(cv2.cv.CV_CAP_PROP_POS_FRAMES)\n",
    "\n",
    "# to return time of each frame in ms \n",
    "time_frame = []\n",
    "preds = y_new_pred.tolist()\n",
    "count = len(pred)\n",
    "\n",
    "while True:\n",
    "    flag, frame = cap.read()\n",
    "\n",
    "    if flag:\n",
    "        # The frame is ready and already captured\n",
    "        #cv2.imshow('video', frame)\n",
    "        res = cv2.resize(frame,None,fx=0.5, fy=0.5, interpolation = cv2.INTER_CUBIC)\n",
    "        cv2.imshow('video', res)\n",
    "        pos_frame = cap.get(cv2.cv.CV_CAP_PROP_POS_FRAMES)\n",
    "        time = cap.get(cv2.cv.CV_CAP_PROP_POS_MSEC)\n",
    "        time_frame.append(time)\n",
    "        #print str(time)+\" s\"\n",
    "        #print str(pos_frame)+\" frames\"\n",
    "        if count > 0:\n",
    "            if preds[len(pred)-count] == 1:\n",
    "                print \"blink\"\n",
    "            else:\n",
    "                print \"eye\"\n",
    "            count = count-1\n",
    "    else:\n",
    "        # The next frame is not ready, so we try to read it again\n",
    "        cap.set(cv2.cv.CV_CAP_PROP_POS_FRAMES, pos_frame-1)\n",
    "        print \"frame is not ready\"\n",
    "        # It is better to wait for a while for the next frame to be ready\n",
    "        cv2.waitKey(1000)\n",
    "        time = cap.get(cv2.cv.CV_CAP_PROP_POS_MSEC)\n",
    "        time_frame.append(time)\n",
    "        #print \"here?\"\n",
    "\n",
    "    if cv2.waitKey(10) == 27:\n",
    "        break\n",
    "    if cap.get(cv2.cv.CV_CAP_PROP_POS_FRAMES) == cap.get(cv2.cv.CV_CAP_PROP_FRAME_COUNT):\n",
    "        # If the number of captured frames is equal to the total number of frames,\n",
    "        # we stop\n",
    "        break\n",
    "\n",
    "cv2.destroyAllWindows()"
   ]
  }
 ],
 "metadata": {
  "kernelspec": {
   "display_name": "Python 2",
   "language": "python",
   "name": "python2"
  },
  "language_info": {
   "codemirror_mode": {
    "name": "ipython",
    "version": 2
   },
   "file_extension": ".py",
   "mimetype": "text/x-python",
   "name": "python",
   "nbconvert_exporter": "python",
   "pygments_lexer": "ipython2",
   "version": "2.7.13"
  }
 },
 "nbformat": 4,
 "nbformat_minor": 2
}
