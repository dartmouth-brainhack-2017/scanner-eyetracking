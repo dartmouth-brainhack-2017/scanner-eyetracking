{
 "cells": [
  {
   "cell_type": "code",
   "execution_count": null,
   "metadata": {
    "collapsed": true
   },
   "outputs": [],
   "source": [
    "from psychopy import visual, core, logging, event as pevent\n",
    "from psychopy.hardware.emulator import launchScan\n",
    "import time\n",
    "import serial"
   ]
  },
  {
   "cell_type": "code",
   "execution_count": null,
   "metadata": {
    "collapsed": true
   },
   "outputs": [],
   "source": [
    "event = pevent\n",
    "\n",
    "class SerialEvent(object):\n",
    "    \"\"\"Extends psychopy.event to get input for serial port\"\"\"\n",
    "    def __init__(self):\n",
    "        \"\"\"Open serial port\"\"\"\n",
    "        # set up an internal clock\n",
    "        # self.clock = core.Clock()\n",
    "        self.ser = serial.Serial('/dev/ttyUSB0', 115200, timeout=.0001)\n",
    "        self.ser.flushInput()\n",
    "\n",
    "    def getKeys(self, keyList=None, timeStamped=False):\n",
    "        \"\"\"Use same arguments as event.getKeys\"\"\"\n",
    "        keys = []\n",
    "        serkey = None\n",
    "        if SYNCKEY in keyList:\n",
    "            # XXX: it can only send one key at a time\n",
    "            serkey = self.ser.read()\n",
    "            if serkey == SYNCKEY:\n",
    "                keys.append((serkey, core.getTime()))\n",
    "                keyList.remove(SYNCKEY)\n",
    "        if RESPONSEKEY in keyList:\n",
    "            serkey = self.ser.read() if not serkey else serkey\n",
    "            if serkey == RESPONSEKEY:\n",
    "                keys.append((serkey, core.getTime()))\n",
    "                keyList.remove(RESPONSEKEY)\n",
    "        if keyList is None or keyList:\n",
    "            keys.extend(pevent.getKeys(keyList=keyList,\n",
    "                                       timeStamped=True))\n",
    "        # code borrowed from psychopy.event\n",
    "        if not timeStamped:\n",
    "            keyNames = [k[0] for k in keys]\n",
    "            return keyNames\n",
    "        elif hasattr(timeStamped, 'getLastResetTime'):\n",
    "            #keys were originally time-stamped with core.monotonicClock._lastResetTime\n",
    "            #we need to shift that by the difference between it and our custom clock\n",
    "            timeBaseDiff = timeStamped.getLastResetTime() - core.monotonicClock.getLastResetTime()\n",
    "            relTuple = [(k[0], k[1]-timeBaseDiff) for k in keys]\n",
    "            return relTuple\n",
    "        elif timeStamped:\n",
    "            return keys\n",
    "        elif isinstance(timeStamped, (float, int, long)):\n",
    "            relTuple = [(k[0], k[1] - timeStamped) for k in keys]\n",
    "            return relTuple\n",
    "\n",
    "    @staticmethod\n",
    "    def waitKeys(*args, **kwargs):\n",
    "        return pevent.waitKeys(*args, **kwargs)\n",
    "\n",
    "    def close(self):\n",
    "        self.ser.close()\n"
   ]
  }
 ],
 "metadata": {
  "kernelspec": {
   "display_name": "Python 2",
   "language": "python",
   "name": "python2"
  },
  "language_info": {
   "codemirror_mode": {
    "name": "ipython",
    "version": 2
   },
   "file_extension": ".py",
   "mimetype": "text/x-python",
   "name": "python",
   "nbconvert_exporter": "python",
   "pygments_lexer": "ipython2",
   "version": "2.7.13"
  }
 },
 "nbformat": 4,
 "nbformat_minor": 2
}
